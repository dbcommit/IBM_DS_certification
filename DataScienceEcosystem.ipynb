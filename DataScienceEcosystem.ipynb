{
 "cells": [
  {
   "cell_type": "markdown",
   "id": "e1b3a8cf-0d7b-4b59-a75b-40bd0ab33ee7",
   "metadata": {},
   "source": [
    "<h1>Data Science Tools and Ecosystem</h1>"
   ]
  },
  {
   "cell_type": "markdown",
   "id": "33bc4959-82d9-4958-985a-6a980be8813f",
   "metadata": {},
   "source": [
    "In this notebook, Data Science Tools and Ecosystem are summarized."
   ]
  },
  {
   "cell_type": "raw",
   "id": "56dcf774-635a-42d8-90d0-b74f3a8382e9",
   "metadata": {},
   "source": []
  },
  {
   "cell_type": "markdown",
   "id": "68b1c488-24bc-47ee-be3e-2e31535b1be7",
   "metadata": {},
   "source": [
    "<h4>Objectives:</h4>\n",
    "<ul><li>libraries used in Data Science</li>\n",
    "    <li>Evaluatin arithmetic expressions in Notebook</li>\n",
    "    <li>Popular Libraries used in Data Science</li>\n",
    "    <li>Popular IDEs used by data scientists</li>\n",
    "</ul>"
   ]
  },
  {
   "cell_type": "markdown",
   "id": "3994adc1-9a35-4504-8dff-55afbdf8e54a",
   "metadata": {},
   "source": [
    "Some of the popular languages that Data Scientists use are:"
   ]
  },
  {
   "cell_type": "markdown",
   "id": "e461332d-4bfb-47a3-8f5a-2348a688c3d5",
   "metadata": {},
   "source": [
    "<ol><li>Python</li><li>R</li><li>SQL</li></ol>"
   ]
  },
  {
   "cell_type": "markdown",
   "id": "a68ad4b1-9d50-45ea-b946-c84e19843b09",
   "metadata": {},
   "source": [
    "Some of the commonly used libraries used by Data Scientists include:\n",
    "<ol><li>Pandas</li><li>NumPy</li><li>Matplotlib</li></ol>"
   ]
  },
  {
   "cell_type": "markdown",
   "id": "8ca2246c-d689-4971-925d-ad137c70c9a7",
   "metadata": {},
   "source": [
    "<table><th>Data Science Tools</th><tr><td>Anaconda Navigator</td></tr><td>PyCharm</td><tr><td>Visual Studio Code</td></tr></table>"
   ]
  },
  {
   "cell_type": "markdown",
   "id": "57d9e172-2871-4663-b169-4755ce4b9837",
   "metadata": {},
   "source": [
    "<h3>Below are a few examples of evaluating arithmetic expressions in Python</h3>"
   ]
  },
  {
   "cell_type": "code",
   "execution_count": 3,
   "id": "959276a3-0036-4ec2-9b1a-3a3f832e8711",
   "metadata": {},
   "outputs": [
    {
     "data": {
      "text/plain": [
       "17"
      ]
     },
     "execution_count": 3,
     "metadata": {},
     "output_type": "execute_result"
    }
   ],
   "source": [
    "# This a simple arithmetic expression to mutiply then add integers\n",
    "(3*4)+5"
   ]
  },
  {
   "cell_type": "code",
   "execution_count": 4,
   "id": "4f63c68f-2287-4f7d-8a89-949076e661de",
   "metadata": {},
   "outputs": [
    {
     "data": {
      "text/plain": [
       "3.3333333333333335"
      ]
     },
     "execution_count": 4,
     "metadata": {},
     "output_type": "execute_result"
    }
   ],
   "source": [
    "200/60"
   ]
  },
  {
   "cell_type": "markdown",
   "id": "68f3b434-7529-43cc-ae29-1b0cc21cb513",
   "metadata": {},
   "source": [
    "<h2>Author</h2>\n",
    "Anup Shukla"
   ]
  },
  {
   "cell_type": "code",
   "execution_count": null,
   "id": "3f078b12-bf51-453b-a1cb-f137f82b435b",
   "metadata": {},
   "outputs": [],
   "source": []
  }
 ],
 "metadata": {
  "kernelspec": {
   "display_name": "Python 3 (ipykernel)",
   "language": "python",
   "name": "python3"
  },
  "language_info": {
   "codemirror_mode": {
    "name": "ipython",
    "version": 3
   },
   "file_extension": ".py",
   "mimetype": "text/x-python",
   "name": "python",
   "nbconvert_exporter": "python",
   "pygments_lexer": "ipython3",
   "version": "3.12.8"
  }
 },
 "nbformat": 4,
 "nbformat_minor": 5
}
